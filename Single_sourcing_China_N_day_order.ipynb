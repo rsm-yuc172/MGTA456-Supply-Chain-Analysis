{
 "cells": [
  {
   "cell_type": "markdown",
   "metadata": {},
   "source": [
    "# Final Project: Decide on global dual sourcing strategy\n",
    "\n",
    "team: \\\n",
    "David Yang \\\n",
    "Jack Chen \\\n",
    "Joyce Wu"
   ]
  },
  {
   "cell_type": "code",
   "execution_count": 137,
   "metadata": {},
   "outputs": [],
   "source": [
    "import numpy as np\n",
    "import pandas as pd"
   ]
  },
  {
   "cell_type": "code",
   "execution_count": 138,
   "metadata": {},
   "outputs": [],
   "source": [
    "data = pd.read_csv('final project 2024.csv')"
   ]
  },
  {
   "cell_type": "code",
   "execution_count": 139,
   "metadata": {},
   "outputs": [
    {
     "data": {
      "text/html": [
       "<div>\n",
       "<style scoped>\n",
       "    .dataframe tbody tr th:only-of-type {\n",
       "        vertical-align: middle;\n",
       "    }\n",
       "\n",
       "    .dataframe tbody tr th {\n",
       "        vertical-align: top;\n",
       "    }\n",
       "\n",
       "    .dataframe thead th {\n",
       "        text-align: right;\n",
       "    }\n",
       "</style>\n",
       "<table border=\"1\" class=\"dataframe\">\n",
       "  <thead>\n",
       "    <tr style=\"text-align: right;\">\n",
       "      <th></th>\n",
       "      <th>period</th>\n",
       "      <th>demand</th>\n",
       "    </tr>\n",
       "  </thead>\n",
       "  <tbody>\n",
       "    <tr>\n",
       "      <th>0</th>\n",
       "      <td>1</td>\n",
       "      <td>21</td>\n",
       "    </tr>\n",
       "    <tr>\n",
       "      <th>1</th>\n",
       "      <td>2</td>\n",
       "      <td>81</td>\n",
       "    </tr>\n",
       "    <tr>\n",
       "      <th>2</th>\n",
       "      <td>3</td>\n",
       "      <td>32</td>\n",
       "    </tr>\n",
       "    <tr>\n",
       "      <th>3</th>\n",
       "      <td>4</td>\n",
       "      <td>58</td>\n",
       "    </tr>\n",
       "    <tr>\n",
       "      <th>4</th>\n",
       "      <td>5</td>\n",
       "      <td>47</td>\n",
       "    </tr>\n",
       "    <tr>\n",
       "      <th>5</th>\n",
       "      <td>6</td>\n",
       "      <td>49</td>\n",
       "    </tr>\n",
       "    <tr>\n",
       "      <th>6</th>\n",
       "      <td>7</td>\n",
       "      <td>66</td>\n",
       "    </tr>\n",
       "    <tr>\n",
       "      <th>7</th>\n",
       "      <td>8</td>\n",
       "      <td>29</td>\n",
       "    </tr>\n",
       "    <tr>\n",
       "      <th>8</th>\n",
       "      <td>9</td>\n",
       "      <td>55</td>\n",
       "    </tr>\n",
       "    <tr>\n",
       "      <th>9</th>\n",
       "      <td>10</td>\n",
       "      <td>39</td>\n",
       "    </tr>\n",
       "  </tbody>\n",
       "</table>\n",
       "</div>"
      ],
      "text/plain": [
       "   period  demand\n",
       "0       1      21\n",
       "1       2      81\n",
       "2       3      32\n",
       "3       4      58\n",
       "4       5      47\n",
       "5       6      49\n",
       "6       7      66\n",
       "7       8      29\n",
       "8       9      55\n",
       "9      10      39"
      ]
     },
     "execution_count": 139,
     "metadata": {},
     "output_type": "execute_result"
    }
   ],
   "source": [
    "data.head(10)"
   ]
  },
  {
   "cell_type": "code",
   "execution_count": 140,
   "metadata": {},
   "outputs": [],
   "source": [
    "s = 10 # sales price\n",
    "c_m = 8 # cost mexico\n",
    "c_c = 7.25 # cost china\n",
    "i = 0.01 # interest rate\n",
    "ini_bal = 0 # initial balance"
   ]
  },
  {
   "cell_type": "markdown",
   "metadata": {},
   "source": [
    "## Single Sourcing: China  "
   ]
  },
  {
   "cell_type": "code",
   "execution_count": 141,
   "metadata": {},
   "outputs": [],
   "source": [
    "Days_loop = np.arange(2, 10)"
   ]
  },
  {
   "cell_type": "markdown",
   "metadata": {},
   "source": [
    "### Cumulative Average Forecast"
   ]
  },
  {
   "cell_type": "code",
   "execution_count": 142,
   "metadata": {},
   "outputs": [
    {
     "data": {
      "text/html": [
       "<div>\n",
       "<style scoped>\n",
       "    .dataframe tbody tr th:only-of-type {\n",
       "        vertical-align: middle;\n",
       "    }\n",
       "\n",
       "    .dataframe tbody tr th {\n",
       "        vertical-align: top;\n",
       "    }\n",
       "\n",
       "    .dataframe thead th {\n",
       "        text-align: right;\n",
       "    }\n",
       "</style>\n",
       "<table border=\"1\" class=\"dataframe\">\n",
       "  <thead>\n",
       "    <tr style=\"text-align: right;\">\n",
       "      <th></th>\n",
       "      <th>period</th>\n",
       "      <th>demand</th>\n",
       "    </tr>\n",
       "  </thead>\n",
       "  <tbody>\n",
       "    <tr>\n",
       "      <th>0</th>\n",
       "      <td>1</td>\n",
       "      <td>21</td>\n",
       "    </tr>\n",
       "    <tr>\n",
       "      <th>1</th>\n",
       "      <td>2</td>\n",
       "      <td>81</td>\n",
       "    </tr>\n",
       "    <tr>\n",
       "      <th>2</th>\n",
       "      <td>3</td>\n",
       "      <td>32</td>\n",
       "    </tr>\n",
       "    <tr>\n",
       "      <th>3</th>\n",
       "      <td>4</td>\n",
       "      <td>58</td>\n",
       "    </tr>\n",
       "    <tr>\n",
       "      <th>4</th>\n",
       "      <td>5</td>\n",
       "      <td>47</td>\n",
       "    </tr>\n",
       "    <tr>\n",
       "      <th>...</th>\n",
       "      <td>...</td>\n",
       "      <td>...</td>\n",
       "    </tr>\n",
       "    <tr>\n",
       "      <th>9995</th>\n",
       "      <td>9996</td>\n",
       "      <td>68</td>\n",
       "    </tr>\n",
       "    <tr>\n",
       "      <th>9996</th>\n",
       "      <td>9997</td>\n",
       "      <td>70</td>\n",
       "    </tr>\n",
       "    <tr>\n",
       "      <th>9997</th>\n",
       "      <td>9998</td>\n",
       "      <td>74</td>\n",
       "    </tr>\n",
       "    <tr>\n",
       "      <th>9998</th>\n",
       "      <td>9999</td>\n",
       "      <td>52</td>\n",
       "    </tr>\n",
       "    <tr>\n",
       "      <th>9999</th>\n",
       "      <td>10000</td>\n",
       "      <td>49</td>\n",
       "    </tr>\n",
       "  </tbody>\n",
       "</table>\n",
       "<p>10000 rows × 2 columns</p>\n",
       "</div>"
      ],
      "text/plain": [
       "      period  demand\n",
       "0          1      21\n",
       "1          2      81\n",
       "2          3      32\n",
       "3          4      58\n",
       "4          5      47\n",
       "...      ...     ...\n",
       "9995    9996      68\n",
       "9996    9997      70\n",
       "9997    9998      74\n",
       "9998    9999      52\n",
       "9999   10000      49\n",
       "\n",
       "[10000 rows x 2 columns]"
      ]
     },
     "execution_count": 142,
     "metadata": {},
     "output_type": "execute_result"
    }
   ],
   "source": [
    "data"
   ]
  },
  {
   "cell_type": "code",
   "execution_count": 143,
   "metadata": {},
   "outputs": [],
   "source": [
    "def China_cul_avg_n_days(data, sales_price, sourcing_cost, interest_rate, initial_cash_balance, days):\n",
    "    cash_balance = initial_cash_balance\n",
    "    inventory = 0\n",
    "    orders = []\n",
    "    # forecast_lst = [0]\n",
    "    # demand_lst = []\n",
    "    # error_lst =[]\n",
    "    \n",
    "    for period in data['period']:\n",
    "        current_demand = data.loc[data['period'] == period, 'demand'].values[0]\n",
    "        # demand_lst.append(current_demand)\n",
    "        \n",
    "        # Calculate cumulative average demand up to the current period\n",
    "        if period > 1:\n",
    "            cum_avg_demand = np.ceil(np.mean(data.loc[data['period'] <= period, 'demand']))\n",
    "            # forecast_lst.append(cum_avg_demand)\n",
    "        else:\n",
    "            cum_avg_demand = np.ceil(current_demand)  # For the first period, use the current demand\n",
    "            # forecast_lst.append(cum_avg_demand)\n",
    "\n",
    "        # if len(forecast_lst) > days:\n",
    "        #     avg_lead_time_demand = np.sum(forecast_lst[-days:])\n",
    "        #     avg_demand = np.sum(demand_lst[-days:])\n",
    "        #     error_lst.append(avg_demand - avg_lead_time_demand)\n",
    "        # else:\n",
    "        #     avg_lead_time_demand = np.sum(forecast_lst[-len(forecast_lst):])\n",
    "        #     avg_demand = np.sum(demand_lst[-len(demand_lst):])\n",
    "        #     error_lst.append(avg_demand - avg_lead_time_demand)\n",
    "        \n",
    "        # Check if any orders are arriving in this period\n",
    "        orders_to_receive = [order for order in orders if order[0] == period]\n",
    "        for order in orders_to_receive:\n",
    "            inventory += order[1]\n",
    "                    \n",
    "        # Satisfy demand from inventory\n",
    "        if inventory >= current_demand:\n",
    "            sales = current_demand\n",
    "            inventory -= sales\n",
    "        else:\n",
    "            sales = inventory\n",
    "            inventory = 0\n",
    "        \n",
    "        # Calculate revenue\n",
    "        revenue = sales * sales_price\n",
    "        cash_balance += revenue\n",
    "\n",
    "        # Determine order quantity based\n",
    "        if cum_avg_demand*days >= inventory:\n",
    "            order_quantity = int(cum_avg_demand*days - inventory)\n",
    "        else:\n",
    "            order_quantity = 0\n",
    "        \n",
    "        if order_quantity > 0:\n",
    "            orders.append((period + 4, order_quantity)) \n",
    "\n",
    "        order_cost = order_quantity * sourcing_cost\n",
    "        cash_balance -= order_cost\n",
    "\n",
    "        # Apply interest\n",
    "        cash_balance = cash_balance * (1 + interest_rate)\n",
    "\n",
    "        # Update inventory with new order\n",
    "        inventory += order_quantity\n",
    "    \n",
    "    return cash_balance\n",
    "\n"
   ]
  },
  {
   "cell_type": "code",
   "execution_count": 144,
   "metadata": {},
   "outputs": [
    {
     "name": "stdout",
     "output_type": "stream",
     "text": [
      "Current 2, Total Balanced: 4.80241051738797e+47\n"
     ]
    }
   ],
   "source": [
    "max_balance = 0\n",
    "max_day = 0\n",
    "\n",
    "for day in Days_loop:\n",
    "    balance = China_cul_avg_n_days(data, s, c_c, i, ini_bal, day)\n",
    "    if balance > max_balance:\n",
    "        max_balance = balance\n",
    "        max_day = day\n",
    "print(f'Current {max_day}, Total Balanced: {max_balance}')"
   ]
  },
  {
   "cell_type": "code",
   "execution_count": 145,
   "metadata": {},
   "outputs": [
    {
     "data": {
      "text/plain": [
       "(4.80241051738797e+47, 2)"
      ]
     },
     "execution_count": 145,
     "metadata": {},
     "output_type": "execute_result"
    }
   ],
   "source": [
    "max_balance_model_1 = max_balance\n",
    "max_day_model_1 = max_day\n",
    "\n",
    "max_balance_model_1, max_day_model_1"
   ]
  },
  {
   "cell_type": "code",
   "execution_count": 146,
   "metadata": {},
   "outputs": [],
   "source": [
    "def China_moving_avg_n_days(data, sales_price, sourcing_cost, interest_rate, initial_cash_balance, moving_avg_window, day):\n",
    "    cash_balance = initial_cash_balance\n",
    "    inventory = 0\n",
    "    orders = []\n",
    "    # forecast_lst = [0]\n",
    "    # demand_lst = []\n",
    "    # error_lst =[]\n",
    "    \n",
    "    for period in data['period']:\n",
    "        current_demand = data.loc[data['period'] == period, 'demand'].values[0]\n",
    "        # demand_lst.append(current_demand)\n",
    "        \n",
    "        # Calculate cumulative average demand up to the current period\n",
    "        if period >= moving_avg_window:\n",
    "            moving_avg_demand = np.ceil(np.mean(data.loc[(data['period'] > period - moving_avg_window) & (data['period'] <= period), 'demand']))\n",
    "            # forecast_lst.append(moving_avg_demand)\n",
    "        else:\n",
    "            moving_avg_demand = np.ceil(np.mean(data.loc[data['period'] <= period, 'demand']))\n",
    "            # forecast_lst.append(moving_avg_demand)\n",
    "        \n",
    "        orders_to_receive = [order for order in orders if order[0] == period]\n",
    "        for order in orders_to_receive:\n",
    "            inventory += order[1]\n",
    "\n",
    "\n",
    "        # if len(forecast_lst) > day:\n",
    "        #     avg_lead_time_demand = np.sum(forecast_lst[-day:])\n",
    "        #     avg_demand = np.sum(demand_lst[-day:])\n",
    "        #     error_lst.append(avg_demand - avg_lead_time_demand)\n",
    "        # else:\n",
    "        #     avg_lead_time_demand = np.sum(forecast_lst[-len(forecast_lst):])\n",
    "        #     avg_demand = np.sum(demand_lst[-len(demand_lst):])\n",
    "        #     error_lst.append(avg_demand - avg_lead_time_demand)\n",
    "\n",
    "        avg_lead_demand =  np.ceil(np.mean(data.loc[data['period'] <= period, 'demand']))\n",
    "        \n",
    "        # Satisfy demand from inventory\n",
    "        if inventory >= current_demand:\n",
    "            sales = current_demand\n",
    "            inventory -= sales\n",
    "        else:\n",
    "            sales = inventory\n",
    "            inventory = 0\n",
    "        \n",
    "        # Calculate revenue\n",
    "        revenue = sales * sales_price\n",
    "        cash_balance += revenue\n",
    "\n",
    "        # Determine order quantity based\n",
    "        if avg_lead_demand*day >= inventory:\n",
    "            order_quantity = int(moving_avg_demand*day - inventory)\n",
    "        else:\n",
    "            order_quantity = 0\n",
    "        \n",
    "        if order_quantity > 0:\n",
    "            orders.append((period + 4, order_quantity)) \n",
    "        \n",
    "        order_cost = order_quantity * sourcing_cost\n",
    "        cash_balance -= order_cost\n",
    "\n",
    "        # Apply interest\n",
    "        cash_balance = cash_balance * (1 + interest_rate)\n",
    "\n",
    "        # Update inventory with new order\n",
    "        inventory += order_quantity\n",
    "    \n",
    "    return cash_balance\n",
    "\n"
   ]
  },
  {
   "cell_type": "code",
   "execution_count": 147,
   "metadata": {},
   "outputs": [
    {
     "name": "stdout",
     "output_type": "stream",
     "text": [
      "day: 2\n",
      "day: 3\n",
      "day: 4\n",
      "day: 5\n",
      "day: 6\n",
      "day: 7\n",
      "day: 8\n",
      "day: 9\n",
      "Current 3, Total Balanced: 4.812582249745737e+47\n"
     ]
    }
   ],
   "source": [
    "max_balance = 0\n",
    "max_day = 0\n",
    "max_sl = 0\n",
    "\n",
    "for day in Days_loop:\n",
    "    print(f'day: {day}')\n",
    "    balance = China_moving_avg_n_days(data, s, c_c, i, ini_bal, 10, day)\n",
    "    if balance > max_balance:\n",
    "        max_balance = balance\n",
    "        max_day = day\n",
    "print(f'Current {max_day}, Total Balanced: {max_balance}')"
   ]
  },
  {
   "cell_type": "code",
   "execution_count": 148,
   "metadata": {},
   "outputs": [
    {
     "data": {
      "text/plain": [
       "(4.812582249745737e+47, 3)"
      ]
     },
     "execution_count": 148,
     "metadata": {},
     "output_type": "execute_result"
    }
   ],
   "source": [
    "max_balance_model_2 = max_balance\n",
    "max_day_model_2 = max_day\n",
    "\n",
    "max_balance_model_2, max_day_model_2"
   ]
  },
  {
   "cell_type": "markdown",
   "metadata": {},
   "source": [
    "### Exponential Smoothing"
   ]
  },
  {
   "cell_type": "code",
   "execution_count": 149,
   "metadata": {},
   "outputs": [],
   "source": [
    "def China_exp_n_days(data, sales_price, sourcing_cost, interest_rate, initial_cash_balance, alpha, days):\n",
    "    cash_balance = initial_cash_balance\n",
    "    inventory = 0\n",
    "    orders = []\n",
    "    # forecast_lst = [0]\n",
    "    # demand_lst = []\n",
    "    # error_lst = []\n",
    "    \n",
    "    for period in data['period']:\n",
    "        current_demand = data.loc[data['period'] == period, 'demand'].values[0]\n",
    "        # demand_lst.append(current_demand)\n",
    "        \n",
    "        # Calculate cumulative average demand up to the current period\n",
    "        if period == 1:\n",
    "            forecast = current_demand  # Use the first period's demand as the initial forecast\n",
    "            # forecast_lst.append(forecast)\n",
    "        else:\n",
    "            forecast = alpha * current_demand + (1 - alpha) * forecast\n",
    "            # forecast_lst.append(forecast)\n",
    "\n",
    "        avg_lead_demand =  np.ceil(np.mean(data.loc[data['period'] <= period, 'demand']))\n",
    "\n",
    "        # if len(forecast_lst) > day:\n",
    "        #     avg_lead_time_demand = np.sum(forecast_lst[-day:])\n",
    "        #     avg_demand = np.sum(demand_lst[-day:])\n",
    "        #     error_lst.append(avg_demand - avg_lead_time_demand)\n",
    "        # else:\n",
    "        #     avg_lead_time_demand = np.sum(forecast_lst[-len(forecast_lst):])\n",
    "        #     avg_demand = np.sum(demand_lst[-len(demand_lst):])\n",
    "        #     error_lst.append(avg_demand - avg_lead_time_demand)\n",
    "\n",
    "        \n",
    "        orders_to_receive = [order for order in orders if order[0] == period]\n",
    "        for order in orders_to_receive:\n",
    "            inventory += order[1]\n",
    "\n",
    "        # Satisfy demand from inventory\n",
    "        if inventory >= current_demand:\n",
    "            sales = current_demand\n",
    "            inventory -= sales\n",
    "        else:\n",
    "            sales = inventory\n",
    "            inventory = 0\n",
    "        \n",
    "        # Calculate revenue\n",
    "        revenue = sales * sales_price\n",
    "        cash_balance += revenue\n",
    "\n",
    "        # Determine order quantity based\n",
    "        if avg_lead_demand*days >= inventory:\n",
    "            order_quantity = int(forecast*days - inventory)\n",
    "        else:\n",
    "            order_quantity = 0\n",
    "        \n",
    "        if order_quantity > 0:\n",
    "            orders.append((period + 4, order_quantity)) \n",
    "        \n",
    "        order_cost = order_quantity * sourcing_cost\n",
    "        cash_balance -= order_cost\n",
    "\n",
    "        # Apply interest\n",
    "        cash_balance = cash_balance * (1 + interest_rate)\n",
    "\n",
    "        # Update inventory with new order\n",
    "        inventory += order_quantity\n",
    "    \n",
    "    return cash_balance\n",
    "\n"
   ]
  },
  {
   "cell_type": "code",
   "execution_count": 157,
   "metadata": {},
   "outputs": [],
   "source": [
    "alphas = np.arange(0.01, 0.11, 0.01)"
   ]
  },
  {
   "cell_type": "code",
   "execution_count": 158,
   "metadata": {},
   "outputs": [
    {
     "name": "stdout",
     "output_type": "stream",
     "text": [
      "0.01\n",
      "0.02\n",
      "0.03\n",
      "0.04\n",
      "0.05\n",
      "0.060000000000000005\n",
      "0.06999999999999999\n",
      "0.08\n",
      "0.09\n",
      "0.09999999999999999\n",
      "Max Alpha 0.01, Max Days 5, Total Balanced: 5.019634206224602e+47\n"
     ]
    }
   ],
   "source": [
    "max_balance = 0\n",
    "max_alpha = 0\n",
    "max_days = 0\n",
    "\n",
    "for alpha in alphas:\n",
    "    print(alpha)\n",
    "    for day in Days_loop:\n",
    "        balance = China_exp_n_days(data, s, c_c, i, ini_bal, alpha, day)\n",
    "        if balance > max_balance:\n",
    "            max_balance = balance\n",
    "            max_alpha = alpha\n",
    "            max_days = day\n",
    "print(f'Max Alpha {max_alpha}, Max Days {max_days}, Total Balanced: {max_balance}')"
   ]
  },
  {
   "cell_type": "code",
   "execution_count": 159,
   "metadata": {},
   "outputs": [
    {
     "data": {
      "text/plain": [
       "(5.019634206224602e+47, 3, 0.01)"
      ]
     },
     "execution_count": 159,
     "metadata": {},
     "output_type": "execute_result"
    }
   ],
   "source": [
    "max_balance_model_3 = max_balance\n",
    "max_day_model_3 = max_day\n",
    "max_alpha_model_3 = max_alpha\n",
    "\n",
    "max_balance_model_3, max_day_model_3, max_alpha_model_3"
   ]
  },
  {
   "cell_type": "markdown",
   "metadata": {},
   "source": [
    "### Results"
   ]
  },
  {
   "cell_type": "code",
   "execution_count": 153,
   "metadata": {},
   "outputs": [
    {
     "name": "stdout",
     "output_type": "stream",
     "text": [
      "Cumulative Average Forecast: $4.80e+47\n",
      "10-Day Moving Average Forecast: $4.81e+47\n",
      "Exponential Smoothing Forecast: $5.12e+47\n"
     ]
    }
   ],
   "source": [
    "print(\"Cumulative Average Forecast: ${:,.2e}\".format(max_balance_model_1))\n",
    "print(\"10-Day Moving Average Forecast: ${:,.2e}\".format(max_balance_model_2))\n",
    "print(f\"Exponential Smoothing Forecast: ${max_balance_model_3:,.2e}\")"
   ]
  }
 ],
 "metadata": {
  "kernelspec": {
   "display_name": "Python 3",
   "language": "python",
   "name": "python3"
  },
  "language_info": {
   "codemirror_mode": {
    "name": "ipython",
    "version": 3
   },
   "file_extension": ".py",
   "mimetype": "text/x-python",
   "name": "python",
   "nbconvert_exporter": "python",
   "pygments_lexer": "ipython3",
   "version": "3.11.7"
  }
 },
 "nbformat": 4,
 "nbformat_minor": 2
}
