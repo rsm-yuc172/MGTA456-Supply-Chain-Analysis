{
 "cells": [
  {
   "cell_type": "markdown",
   "metadata": {},
   "source": [
    "# Final Project: Decide on global dual sourcing strategy\n",
    "\n",
    "team: \\\n",
    "David Yang \\\n",
    "Jack Chen \\\n",
    "Joyce Wu"
   ]
  },
  {
   "cell_type": "code",
   "execution_count": 107,
   "metadata": {},
   "outputs": [],
   "source": [
    "import numpy as np\n",
    "import pandas as pd"
   ]
  },
  {
   "cell_type": "code",
   "execution_count": 108,
   "metadata": {},
   "outputs": [],
   "source": [
    "data = pd.read_csv('final project 2024.csv')"
   ]
  },
  {
   "cell_type": "code",
   "execution_count": 109,
   "metadata": {},
   "outputs": [
    {
     "data": {
      "text/html": [
       "<div>\n",
       "<style scoped>\n",
       "    .dataframe tbody tr th:only-of-type {\n",
       "        vertical-align: middle;\n",
       "    }\n",
       "\n",
       "    .dataframe tbody tr th {\n",
       "        vertical-align: top;\n",
       "    }\n",
       "\n",
       "    .dataframe thead th {\n",
       "        text-align: right;\n",
       "    }\n",
       "</style>\n",
       "<table border=\"1\" class=\"dataframe\">\n",
       "  <thead>\n",
       "    <tr style=\"text-align: right;\">\n",
       "      <th></th>\n",
       "      <th>period</th>\n",
       "      <th>demand</th>\n",
       "    </tr>\n",
       "  </thead>\n",
       "  <tbody>\n",
       "    <tr>\n",
       "      <th>0</th>\n",
       "      <td>1</td>\n",
       "      <td>21</td>\n",
       "    </tr>\n",
       "    <tr>\n",
       "      <th>1</th>\n",
       "      <td>2</td>\n",
       "      <td>81</td>\n",
       "    </tr>\n",
       "    <tr>\n",
       "      <th>2</th>\n",
       "      <td>3</td>\n",
       "      <td>32</td>\n",
       "    </tr>\n",
       "    <tr>\n",
       "      <th>3</th>\n",
       "      <td>4</td>\n",
       "      <td>58</td>\n",
       "    </tr>\n",
       "    <tr>\n",
       "      <th>4</th>\n",
       "      <td>5</td>\n",
       "      <td>47</td>\n",
       "    </tr>\n",
       "    <tr>\n",
       "      <th>5</th>\n",
       "      <td>6</td>\n",
       "      <td>49</td>\n",
       "    </tr>\n",
       "    <tr>\n",
       "      <th>6</th>\n",
       "      <td>7</td>\n",
       "      <td>66</td>\n",
       "    </tr>\n",
       "    <tr>\n",
       "      <th>7</th>\n",
       "      <td>8</td>\n",
       "      <td>29</td>\n",
       "    </tr>\n",
       "    <tr>\n",
       "      <th>8</th>\n",
       "      <td>9</td>\n",
       "      <td>55</td>\n",
       "    </tr>\n",
       "    <tr>\n",
       "      <th>9</th>\n",
       "      <td>10</td>\n",
       "      <td>39</td>\n",
       "    </tr>\n",
       "  </tbody>\n",
       "</table>\n",
       "</div>"
      ],
      "text/plain": [
       "   period  demand\n",
       "0       1      21\n",
       "1       2      81\n",
       "2       3      32\n",
       "3       4      58\n",
       "4       5      47\n",
       "5       6      49\n",
       "6       7      66\n",
       "7       8      29\n",
       "8       9      55\n",
       "9      10      39"
      ]
     },
     "execution_count": 109,
     "metadata": {},
     "output_type": "execute_result"
    }
   ],
   "source": [
    "data.head(10)"
   ]
  },
  {
   "cell_type": "code",
   "execution_count": 110,
   "metadata": {},
   "outputs": [],
   "source": [
    "s = 10 # sales price\n",
    "c_m = 8 # cost mexico\n",
    "c_c = 7.25 # cost china\n",
    "i = 0.01 # interest rate\n",
    "ini_bal = 0 # initial balance"
   ]
  },
  {
   "cell_type": "markdown",
   "metadata": {},
   "source": [
    "## Duo Sourcing"
   ]
  },
  {
   "cell_type": "code",
   "execution_count": 111,
   "metadata": {},
   "outputs": [],
   "source": [
    "Days_loop = np.arange(2, 9)"
   ]
  },
  {
   "cell_type": "code",
   "execution_count": 112,
   "metadata": {},
   "outputs": [],
   "source": [
    "emergency = np.arange(0.0, 0.5, 0.025)"
   ]
  },
  {
   "cell_type": "markdown",
   "metadata": {},
   "source": [
    "### Cumulative Average Forecast"
   ]
  },
  {
   "cell_type": "code",
   "execution_count": 113,
   "metadata": {},
   "outputs": [
    {
     "data": {
      "text/html": [
       "<div>\n",
       "<style scoped>\n",
       "    .dataframe tbody tr th:only-of-type {\n",
       "        vertical-align: middle;\n",
       "    }\n",
       "\n",
       "    .dataframe tbody tr th {\n",
       "        vertical-align: top;\n",
       "    }\n",
       "\n",
       "    .dataframe thead th {\n",
       "        text-align: right;\n",
       "    }\n",
       "</style>\n",
       "<table border=\"1\" class=\"dataframe\">\n",
       "  <thead>\n",
       "    <tr style=\"text-align: right;\">\n",
       "      <th></th>\n",
       "      <th>period</th>\n",
       "      <th>demand</th>\n",
       "    </tr>\n",
       "  </thead>\n",
       "  <tbody>\n",
       "    <tr>\n",
       "      <th>0</th>\n",
       "      <td>1</td>\n",
       "      <td>21</td>\n",
       "    </tr>\n",
       "    <tr>\n",
       "      <th>1</th>\n",
       "      <td>2</td>\n",
       "      <td>81</td>\n",
       "    </tr>\n",
       "    <tr>\n",
       "      <th>2</th>\n",
       "      <td>3</td>\n",
       "      <td>32</td>\n",
       "    </tr>\n",
       "    <tr>\n",
       "      <th>3</th>\n",
       "      <td>4</td>\n",
       "      <td>58</td>\n",
       "    </tr>\n",
       "    <tr>\n",
       "      <th>4</th>\n",
       "      <td>5</td>\n",
       "      <td>47</td>\n",
       "    </tr>\n",
       "    <tr>\n",
       "      <th>...</th>\n",
       "      <td>...</td>\n",
       "      <td>...</td>\n",
       "    </tr>\n",
       "    <tr>\n",
       "      <th>9995</th>\n",
       "      <td>9996</td>\n",
       "      <td>68</td>\n",
       "    </tr>\n",
       "    <tr>\n",
       "      <th>9996</th>\n",
       "      <td>9997</td>\n",
       "      <td>70</td>\n",
       "    </tr>\n",
       "    <tr>\n",
       "      <th>9997</th>\n",
       "      <td>9998</td>\n",
       "      <td>74</td>\n",
       "    </tr>\n",
       "    <tr>\n",
       "      <th>9998</th>\n",
       "      <td>9999</td>\n",
       "      <td>52</td>\n",
       "    </tr>\n",
       "    <tr>\n",
       "      <th>9999</th>\n",
       "      <td>10000</td>\n",
       "      <td>49</td>\n",
       "    </tr>\n",
       "  </tbody>\n",
       "</table>\n",
       "<p>10000 rows × 2 columns</p>\n",
       "</div>"
      ],
      "text/plain": [
       "      period  demand\n",
       "0          1      21\n",
       "1          2      81\n",
       "2          3      32\n",
       "3          4      58\n",
       "4          5      47\n",
       "...      ...     ...\n",
       "9995    9996      68\n",
       "9996    9997      70\n",
       "9997    9998      74\n",
       "9998    9999      52\n",
       "9999   10000      49\n",
       "\n",
       "[10000 rows x 2 columns]"
      ]
     },
     "execution_count": 113,
     "metadata": {},
     "output_type": "execute_result"
    }
   ],
   "source": [
    "data"
   ]
  },
  {
   "cell_type": "code",
   "execution_count": 114,
   "metadata": {},
   "outputs": [],
   "source": [
    "def China_cul_avg_n_days(data, sales_price, sourcing_cost, interest_rate, initial_cash_balance, days, er_perc):\n",
    "    cash_balance = initial_cash_balance\n",
    "    inventory = 0\n",
    "    orders = []\n",
    "    \n",
    "    for period in data['period']:\n",
    "        current_demand = data.loc[data['period'] == period, 'demand'].values[0]\n",
    "        \n",
    "        # Calculate cumulative average demand up to the current period\n",
    "        if period > 1:\n",
    "            cum_avg_demand = np.ceil(np.mean(data.loc[data['period'] <= period, 'demand']))\n",
    "        else:\n",
    "            cum_avg_demand = np.ceil(current_demand)  # For the first period, use the current demand\n",
    "\n",
    "        # Check if any orders are arriving in this period\n",
    "        orders_to_receive = [order for order in orders if order[0] == period]\n",
    "        for order in orders_to_receive:\n",
    "            inventory += order[1]\n",
    "\n",
    "        # Satisfy demand from inventory\n",
    "        if inventory >= current_demand:\n",
    "            sales = current_demand\n",
    "            inventory -= sales\n",
    "        else:\n",
    "            sales = inventory\n",
    "            inventory = 0\n",
    "        \n",
    "        # Calculate revenue\n",
    "        revenue = sales * sales_price\n",
    "        cash_balance += revenue\n",
    "\n",
    "        # Determine order quantity based\n",
    "        if cum_avg_demand*days >= inventory:\n",
    "            if inventory < er_perc * cum_avg_demand*days:\n",
    "                sourcing_cost = 8\n",
    "                order_quantity = int(cum_avg_demand - inventory)\n",
    "                orders.append((period+1, order_quantity))\n",
    "            else:\n",
    "                sourcing_cost = 7.25\n",
    "                order_quantity = int(cum_avg_demand*days - inventory)\n",
    "                orders.append((period+4, order_quantity))\n",
    "        else:\n",
    "            order_quantity = 0\n",
    "\n",
    "        order_cost = order_quantity * sourcing_cost\n",
    "        cash_balance -= order_cost\n",
    "    \n",
    "        # Apply interest\n",
    "        cash_balance = cash_balance * (1 + interest_rate)\n",
    "\n",
    "        # Update inventory with new order\n",
    "        inventory += order_quantity\n",
    "    \n",
    "    return cash_balance\n",
    "\n"
   ]
  },
  {
   "cell_type": "code",
   "execution_count": 115,
   "metadata": {},
   "outputs": [
    {
     "ename": "KeyboardInterrupt",
     "evalue": "",
     "output_type": "error",
     "traceback": [
      "\u001b[0;31m---------------------------------------------------------------------------\u001b[0m",
      "\u001b[0;31mKeyboardInterrupt\u001b[0m                         Traceback (most recent call last)",
      "Cell \u001b[0;32mIn[115], line 7\u001b[0m\n\u001b[1;32m      5\u001b[0m \u001b[39mfor\u001b[39;00m er \u001b[39min\u001b[39;00m emergency:\n\u001b[1;32m      6\u001b[0m     \u001b[39mfor\u001b[39;00m day \u001b[39min\u001b[39;00m Days_loop:\n\u001b[0;32m----> 7\u001b[0m         balance \u001b[39m=\u001b[39m China_cul_avg_n_days(data, s, c_c, i, ini_bal, day, er)\n\u001b[1;32m      8\u001b[0m         \u001b[39mif\u001b[39;00m balance \u001b[39m>\u001b[39m max_balance:\n\u001b[1;32m      9\u001b[0m             max_balance \u001b[39m=\u001b[39m balance\n",
      "Cell \u001b[0;32mIn[114], line 13\u001b[0m, in \u001b[0;36mChina_cul_avg_n_days\u001b[0;34m(data, sales_price, sourcing_cost, interest_rate, initial_cash_balance, days, er_perc)\u001b[0m\n\u001b[1;32m      9\u001b[0m \u001b[39m# demand_lst.append(current_demand)\u001b[39;00m\n\u001b[1;32m     10\u001b[0m \n\u001b[1;32m     11\u001b[0m \u001b[39m# Calculate cumulative average demand up to the current period\u001b[39;00m\n\u001b[1;32m     12\u001b[0m \u001b[39mif\u001b[39;00m period \u001b[39m>\u001b[39m \u001b[39m1\u001b[39m:\n\u001b[0;32m---> 13\u001b[0m     cum_avg_demand \u001b[39m=\u001b[39m np\u001b[39m.\u001b[39mceil(np\u001b[39m.\u001b[39mmean(data\u001b[39m.\u001b[39;49mloc[data[\u001b[39m'\u001b[39;49m\u001b[39mperiod\u001b[39;49m\u001b[39m'\u001b[39;49m] \u001b[39m<\u001b[39;49m\u001b[39m=\u001b[39;49m period, \u001b[39m'\u001b[39;49m\u001b[39mdemand\u001b[39;49m\u001b[39m'\u001b[39;49m]))\n\u001b[1;32m     14\u001b[0m \u001b[39melse\u001b[39;00m:\n\u001b[1;32m     15\u001b[0m     cum_avg_demand \u001b[39m=\u001b[39m np\u001b[39m.\u001b[39mceil(current_demand)  \u001b[39m# For the first period, use the current demand\u001b[39;00m\n",
      "File \u001b[0;32m/Library/Frameworks/Python.framework/Versions/3.11/lib/python3.11/site-packages/pandas/core/indexing.py:1184\u001b[0m, in \u001b[0;36m_LocationIndexer.__getitem__\u001b[0;34m(self, key)\u001b[0m\n\u001b[1;32m   1182\u001b[0m     \u001b[39mif\u001b[39;00m \u001b[39mself\u001b[39m\u001b[39m.\u001b[39m_is_scalar_access(key):\n\u001b[1;32m   1183\u001b[0m         \u001b[39mreturn\u001b[39;00m \u001b[39mself\u001b[39m\u001b[39m.\u001b[39mobj\u001b[39m.\u001b[39m_get_value(\u001b[39m*\u001b[39mkey, takeable\u001b[39m=\u001b[39m\u001b[39mself\u001b[39m\u001b[39m.\u001b[39m_takeable)\n\u001b[0;32m-> 1184\u001b[0m     \u001b[39mreturn\u001b[39;00m \u001b[39mself\u001b[39;49m\u001b[39m.\u001b[39;49m_getitem_tuple(key)\n\u001b[1;32m   1185\u001b[0m \u001b[39melse\u001b[39;00m:\n\u001b[1;32m   1186\u001b[0m     \u001b[39m# we by definition only have the 0th axis\u001b[39;00m\n\u001b[1;32m   1187\u001b[0m     axis \u001b[39m=\u001b[39m \u001b[39mself\u001b[39m\u001b[39m.\u001b[39maxis \u001b[39mor\u001b[39;00m \u001b[39m0\u001b[39m\n",
      "File \u001b[0;32m/Library/Frameworks/Python.framework/Versions/3.11/lib/python3.11/site-packages/pandas/core/indexing.py:1368\u001b[0m, in \u001b[0;36m_LocIndexer._getitem_tuple\u001b[0;34m(self, tup)\u001b[0m\n\u001b[1;32m   1366\u001b[0m \u001b[39mwith\u001b[39;00m suppress(IndexingError):\n\u001b[1;32m   1367\u001b[0m     tup \u001b[39m=\u001b[39m \u001b[39mself\u001b[39m\u001b[39m.\u001b[39m_expand_ellipsis(tup)\n\u001b[0;32m-> 1368\u001b[0m     \u001b[39mreturn\u001b[39;00m \u001b[39mself\u001b[39;49m\u001b[39m.\u001b[39;49m_getitem_lowerdim(tup)\n\u001b[1;32m   1370\u001b[0m \u001b[39m# no multi-index, so validate all of the indexers\u001b[39;00m\n\u001b[1;32m   1371\u001b[0m tup \u001b[39m=\u001b[39m \u001b[39mself\u001b[39m\u001b[39m.\u001b[39m_validate_tuple_indexer(tup)\n",
      "File \u001b[0;32m/Library/Frameworks/Python.framework/Versions/3.11/lib/python3.11/site-packages/pandas/core/indexing.py:1089\u001b[0m, in \u001b[0;36m_LocationIndexer._getitem_lowerdim\u001b[0;34m(self, tup)\u001b[0m\n\u001b[1;32m   1087\u001b[0m             \u001b[39mreturn\u001b[39;00m section\n\u001b[1;32m   1088\u001b[0m         \u001b[39m# This is an elided recursive call to iloc/loc\u001b[39;00m\n\u001b[0;32m-> 1089\u001b[0m         \u001b[39mreturn\u001b[39;00m \u001b[39mgetattr\u001b[39;49m(section, \u001b[39mself\u001b[39;49m\u001b[39m.\u001b[39;49mname)[new_key]\n\u001b[1;32m   1091\u001b[0m \u001b[39mraise\u001b[39;00m IndexingError(\u001b[39m\"\u001b[39m\u001b[39mnot applicable\u001b[39m\u001b[39m\"\u001b[39m)\n",
      "File \u001b[0;32m/Library/Frameworks/Python.framework/Versions/3.11/lib/python3.11/site-packages/pandas/core/indexing.py:1191\u001b[0m, in \u001b[0;36m_LocationIndexer.__getitem__\u001b[0;34m(self, key)\u001b[0m\n\u001b[1;32m   1189\u001b[0m maybe_callable \u001b[39m=\u001b[39m com\u001b[39m.\u001b[39mapply_if_callable(key, \u001b[39mself\u001b[39m\u001b[39m.\u001b[39mobj)\n\u001b[1;32m   1190\u001b[0m maybe_callable \u001b[39m=\u001b[39m \u001b[39mself\u001b[39m\u001b[39m.\u001b[39m_check_deprecated_callable_usage(key, maybe_callable)\n\u001b[0;32m-> 1191\u001b[0m \u001b[39mreturn\u001b[39;00m \u001b[39mself\u001b[39;49m\u001b[39m.\u001b[39;49m_getitem_axis(maybe_callable, axis\u001b[39m=\u001b[39;49maxis)\n",
      "File \u001b[0;32m/Library/Frameworks/Python.framework/Versions/3.11/lib/python3.11/site-packages/pandas/core/indexing.py:1413\u001b[0m, in \u001b[0;36m_LocIndexer._getitem_axis\u001b[0;34m(self, key, axis)\u001b[0m\n\u001b[1;32m   1411\u001b[0m     \u001b[39mreturn\u001b[39;00m \u001b[39mself\u001b[39m\u001b[39m.\u001b[39m_get_slice_axis(key, axis\u001b[39m=\u001b[39maxis)\n\u001b[1;32m   1412\u001b[0m \u001b[39melif\u001b[39;00m com\u001b[39m.\u001b[39mis_bool_indexer(key):\n\u001b[0;32m-> 1413\u001b[0m     \u001b[39mreturn\u001b[39;00m \u001b[39mself\u001b[39;49m\u001b[39m.\u001b[39;49m_getbool_axis(key, axis\u001b[39m=\u001b[39;49maxis)\n\u001b[1;32m   1414\u001b[0m \u001b[39melif\u001b[39;00m is_list_like_indexer(key):\n\u001b[1;32m   1415\u001b[0m     \u001b[39m# an iterable multi-selection\u001b[39;00m\n\u001b[1;32m   1416\u001b[0m     \u001b[39mif\u001b[39;00m \u001b[39mnot\u001b[39;00m (\u001b[39misinstance\u001b[39m(key, \u001b[39mtuple\u001b[39m) \u001b[39mand\u001b[39;00m \u001b[39misinstance\u001b[39m(labels, MultiIndex)):\n",
      "File \u001b[0;32m/Library/Frameworks/Python.framework/Versions/3.11/lib/python3.11/site-packages/pandas/core/indexing.py:1211\u001b[0m, in \u001b[0;36m_LocationIndexer._getbool_axis\u001b[0;34m(self, key, axis)\u001b[0m\n\u001b[1;32m   1209\u001b[0m key \u001b[39m=\u001b[39m check_bool_indexer(labels, key)\n\u001b[1;32m   1210\u001b[0m inds \u001b[39m=\u001b[39m key\u001b[39m.\u001b[39mnonzero()[\u001b[39m0\u001b[39m]\n\u001b[0;32m-> 1211\u001b[0m \u001b[39mreturn\u001b[39;00m \u001b[39mself\u001b[39;49m\u001b[39m.\u001b[39;49mobj\u001b[39m.\u001b[39;49m_take_with_is_copy(inds, axis\u001b[39m=\u001b[39;49maxis)\n",
      "File \u001b[0;32m/Library/Frameworks/Python.framework/Versions/3.11/lib/python3.11/site-packages/pandas/core/generic.py:4153\u001b[0m, in \u001b[0;36mNDFrame._take_with_is_copy\u001b[0;34m(self, indices, axis)\u001b[0m\n\u001b[1;32m   4142\u001b[0m \u001b[39m@final\u001b[39m\n\u001b[1;32m   4143\u001b[0m \u001b[39mdef\u001b[39;00m \u001b[39m_take_with_is_copy\u001b[39m(\u001b[39mself\u001b[39m, indices, axis: Axis \u001b[39m=\u001b[39m \u001b[39m0\u001b[39m) \u001b[39m-\u001b[39m\u001b[39m>\u001b[39m Self:\n\u001b[1;32m   4144\u001b[0m \u001b[39m    \u001b[39m\u001b[39m\"\"\"\u001b[39;00m\n\u001b[1;32m   4145\u001b[0m \u001b[39m    Internal version of the `take` method that sets the `_is_copy`\u001b[39;00m\n\u001b[1;32m   4146\u001b[0m \u001b[39m    attribute to keep track of the parent dataframe (using in indexing\u001b[39;00m\n\u001b[0;32m   (...)\u001b[0m\n\u001b[1;32m   4151\u001b[0m \u001b[39m    See the docstring of `take` for full explanation of the parameters.\u001b[39;00m\n\u001b[1;32m   4152\u001b[0m \u001b[39m    \"\"\"\u001b[39;00m\n\u001b[0;32m-> 4153\u001b[0m     result \u001b[39m=\u001b[39m \u001b[39mself\u001b[39;49m\u001b[39m.\u001b[39;49mtake(indices\u001b[39m=\u001b[39;49mindices, axis\u001b[39m=\u001b[39;49maxis)\n\u001b[1;32m   4154\u001b[0m     \u001b[39m# Maybe set copy if we didn't actually change the index.\u001b[39;00m\n\u001b[1;32m   4155\u001b[0m     \u001b[39mif\u001b[39;00m \u001b[39mself\u001b[39m\u001b[39m.\u001b[39mndim \u001b[39m==\u001b[39m \u001b[39m2\u001b[39m \u001b[39mand\u001b[39;00m \u001b[39mnot\u001b[39;00m result\u001b[39m.\u001b[39m_get_axis(axis)\u001b[39m.\u001b[39mequals(\u001b[39mself\u001b[39m\u001b[39m.\u001b[39m_get_axis(axis)):\n",
      "File \u001b[0;32m/Library/Frameworks/Python.framework/Versions/3.11/lib/python3.11/site-packages/pandas/core/generic.py:4133\u001b[0m, in \u001b[0;36mNDFrame.take\u001b[0;34m(self, indices, axis, **kwargs)\u001b[0m\n\u001b[1;32m   4128\u001b[0m     \u001b[39m# We can get here with a slice via DataFrame.__getitem__\u001b[39;00m\n\u001b[1;32m   4129\u001b[0m     indices \u001b[39m=\u001b[39m np\u001b[39m.\u001b[39marange(\n\u001b[1;32m   4130\u001b[0m         indices\u001b[39m.\u001b[39mstart, indices\u001b[39m.\u001b[39mstop, indices\u001b[39m.\u001b[39mstep, dtype\u001b[39m=\u001b[39mnp\u001b[39m.\u001b[39mintp\n\u001b[1;32m   4131\u001b[0m     )\n\u001b[0;32m-> 4133\u001b[0m new_data \u001b[39m=\u001b[39m \u001b[39mself\u001b[39;49m\u001b[39m.\u001b[39;49m_mgr\u001b[39m.\u001b[39;49mtake(\n\u001b[1;32m   4134\u001b[0m     indices,\n\u001b[1;32m   4135\u001b[0m     axis\u001b[39m=\u001b[39;49m\u001b[39mself\u001b[39;49m\u001b[39m.\u001b[39;49m_get_block_manager_axis(axis),\n\u001b[1;32m   4136\u001b[0m     verify\u001b[39m=\u001b[39;49m\u001b[39mTrue\u001b[39;49;00m,\n\u001b[1;32m   4137\u001b[0m )\n\u001b[1;32m   4138\u001b[0m \u001b[39mreturn\u001b[39;00m \u001b[39mself\u001b[39m\u001b[39m.\u001b[39m_constructor_from_mgr(new_data, axes\u001b[39m=\u001b[39mnew_data\u001b[39m.\u001b[39maxes)\u001b[39m.\u001b[39m__finalize__(\n\u001b[1;32m   4139\u001b[0m     \u001b[39mself\u001b[39m, method\u001b[39m=\u001b[39m\u001b[39m\"\u001b[39m\u001b[39mtake\u001b[39m\u001b[39m\"\u001b[39m\n\u001b[1;32m   4140\u001b[0m )\n",
      "File \u001b[0;32m/Library/Frameworks/Python.framework/Versions/3.11/lib/python3.11/site-packages/pandas/core/internals/managers.py:894\u001b[0m, in \u001b[0;36mBaseBlockManager.take\u001b[0;34m(self, indexer, axis, verify)\u001b[0m\n\u001b[1;32m    891\u001b[0m indexer \u001b[39m=\u001b[39m maybe_convert_indices(indexer, n, verify\u001b[39m=\u001b[39mverify)\n\u001b[1;32m    893\u001b[0m new_labels \u001b[39m=\u001b[39m \u001b[39mself\u001b[39m\u001b[39m.\u001b[39maxes[axis]\u001b[39m.\u001b[39mtake(indexer)\n\u001b[0;32m--> 894\u001b[0m \u001b[39mreturn\u001b[39;00m \u001b[39mself\u001b[39;49m\u001b[39m.\u001b[39;49mreindex_indexer(\n\u001b[1;32m    895\u001b[0m     new_axis\u001b[39m=\u001b[39;49mnew_labels,\n\u001b[1;32m    896\u001b[0m     indexer\u001b[39m=\u001b[39;49mindexer,\n\u001b[1;32m    897\u001b[0m     axis\u001b[39m=\u001b[39;49maxis,\n\u001b[1;32m    898\u001b[0m     allow_dups\u001b[39m=\u001b[39;49m\u001b[39mTrue\u001b[39;49;00m,\n\u001b[1;32m    899\u001b[0m     copy\u001b[39m=\u001b[39;49m\u001b[39mNone\u001b[39;49;00m,\n\u001b[1;32m    900\u001b[0m )\n",
      "File \u001b[0;32m/Library/Frameworks/Python.framework/Versions/3.11/lib/python3.11/site-packages/pandas/core/internals/managers.py:680\u001b[0m, in \u001b[0;36mBaseBlockManager.reindex_indexer\u001b[0;34m(self, new_axis, indexer, axis, fill_value, allow_dups, copy, only_slice, use_na_proxy)\u001b[0m\n\u001b[1;32m    677\u001b[0m     \u001b[39mraise\u001b[39;00m \u001b[39mIndexError\u001b[39;00m(\u001b[39m\"\u001b[39m\u001b[39mRequested axis not found in manager\u001b[39m\u001b[39m\"\u001b[39m)\n\u001b[1;32m    679\u001b[0m \u001b[39mif\u001b[39;00m axis \u001b[39m==\u001b[39m \u001b[39m0\u001b[39m:\n\u001b[0;32m--> 680\u001b[0m     new_blocks \u001b[39m=\u001b[39m \u001b[39mself\u001b[39;49m\u001b[39m.\u001b[39;49m_slice_take_blocks_ax0(\n\u001b[1;32m    681\u001b[0m         indexer,\n\u001b[1;32m    682\u001b[0m         fill_value\u001b[39m=\u001b[39;49mfill_value,\n\u001b[1;32m    683\u001b[0m         only_slice\u001b[39m=\u001b[39;49monly_slice,\n\u001b[1;32m    684\u001b[0m         use_na_proxy\u001b[39m=\u001b[39;49muse_na_proxy,\n\u001b[1;32m    685\u001b[0m     )\n\u001b[1;32m    686\u001b[0m \u001b[39melse\u001b[39;00m:\n\u001b[1;32m    687\u001b[0m     new_blocks \u001b[39m=\u001b[39m [\n\u001b[1;32m    688\u001b[0m         blk\u001b[39m.\u001b[39mtake_nd(\n\u001b[1;32m    689\u001b[0m             indexer,\n\u001b[0;32m   (...)\u001b[0m\n\u001b[1;32m    695\u001b[0m         \u001b[39mfor\u001b[39;00m blk \u001b[39min\u001b[39;00m \u001b[39mself\u001b[39m\u001b[39m.\u001b[39mblocks\n\u001b[1;32m    696\u001b[0m     ]\n",
      "File \u001b[0;32m/Library/Frameworks/Python.framework/Versions/3.11/lib/python3.11/site-packages/pandas/core/internals/managers.py:773\u001b[0m, in \u001b[0;36mBaseBlockManager._slice_take_blocks_ax0\u001b[0;34m(self, slice_or_indexer, fill_value, only_slice, use_na_proxy, ref_inplace_op)\u001b[0m\n\u001b[1;32m    770\u001b[0m         \u001b[39melse\u001b[39;00m:\n\u001b[1;32m    771\u001b[0m             bp \u001b[39m=\u001b[39m BlockPlacement(\u001b[39mslice\u001b[39m(\u001b[39m0\u001b[39m, sllen))\n\u001b[1;32m    772\u001b[0m             \u001b[39mreturn\u001b[39;00m [\n\u001b[0;32m--> 773\u001b[0m                 blk\u001b[39m.\u001b[39;49mtake_nd(\n\u001b[1;32m    774\u001b[0m                     slobj,\n\u001b[1;32m    775\u001b[0m                     axis\u001b[39m=\u001b[39;49m\u001b[39m0\u001b[39;49m,\n\u001b[1;32m    776\u001b[0m                     new_mgr_locs\u001b[39m=\u001b[39;49mbp,\n\u001b[1;32m    777\u001b[0m                     fill_value\u001b[39m=\u001b[39;49mfill_value,\n\u001b[1;32m    778\u001b[0m                 )\n\u001b[1;32m    779\u001b[0m             ]\n\u001b[1;32m    781\u001b[0m \u001b[39mif\u001b[39;00m sl_type \u001b[39m==\u001b[39m \u001b[39m\"\u001b[39m\u001b[39mslice\u001b[39m\u001b[39m\"\u001b[39m:\n\u001b[1;32m    782\u001b[0m     blknos \u001b[39m=\u001b[39m \u001b[39mself\u001b[39m\u001b[39m.\u001b[39mblknos[slobj]\n",
      "File \u001b[0;32m/Library/Frameworks/Python.framework/Versions/3.11/lib/python3.11/site-packages/pandas/core/internals/blocks.py:1307\u001b[0m, in \u001b[0;36mBlock.take_nd\u001b[0;34m(self, indexer, axis, new_mgr_locs, fill_value)\u001b[0m\n\u001b[1;32m   1304\u001b[0m     allow_fill \u001b[39m=\u001b[39m \u001b[39mTrue\u001b[39;00m\n\u001b[1;32m   1306\u001b[0m \u001b[39m# Note: algos.take_nd has upcast logic similar to coerce_to_target_dtype\u001b[39;00m\n\u001b[0;32m-> 1307\u001b[0m new_values \u001b[39m=\u001b[39m algos\u001b[39m.\u001b[39;49mtake_nd(\n\u001b[1;32m   1308\u001b[0m     values, indexer, axis\u001b[39m=\u001b[39;49maxis, allow_fill\u001b[39m=\u001b[39;49mallow_fill, fill_value\u001b[39m=\u001b[39;49mfill_value\n\u001b[1;32m   1309\u001b[0m )\n\u001b[1;32m   1311\u001b[0m \u001b[39m# Called from three places in managers, all of which satisfy\u001b[39;00m\n\u001b[1;32m   1312\u001b[0m \u001b[39m#  these assertions\u001b[39;00m\n\u001b[1;32m   1313\u001b[0m \u001b[39mif\u001b[39;00m \u001b[39misinstance\u001b[39m(\u001b[39mself\u001b[39m, ExtensionBlock):\n\u001b[1;32m   1314\u001b[0m     \u001b[39m# NB: in this case, the 'axis' kwarg will be ignored in the\u001b[39;00m\n\u001b[1;32m   1315\u001b[0m     \u001b[39m#  algos.take_nd call above.\u001b[39;00m\n",
      "File \u001b[0;32m/Library/Frameworks/Python.framework/Versions/3.11/lib/python3.11/site-packages/pandas/core/array_algos/take.py:117\u001b[0m, in \u001b[0;36mtake_nd\u001b[0;34m(arr, indexer, axis, fill_value, allow_fill)\u001b[0m\n\u001b[1;32m    114\u001b[0m     \u001b[39mreturn\u001b[39;00m arr\u001b[39m.\u001b[39mtake(indexer, fill_value\u001b[39m=\u001b[39mfill_value, allow_fill\u001b[39m=\u001b[39mallow_fill)\n\u001b[1;32m    116\u001b[0m arr \u001b[39m=\u001b[39m np\u001b[39m.\u001b[39masarray(arr)\n\u001b[0;32m--> 117\u001b[0m \u001b[39mreturn\u001b[39;00m _take_nd_ndarray(arr, indexer, axis, fill_value, allow_fill)\n",
      "File \u001b[0;32m/Library/Frameworks/Python.framework/Versions/3.11/lib/python3.11/site-packages/pandas/core/array_algos/take.py:162\u001b[0m, in \u001b[0;36m_take_nd_ndarray\u001b[0;34m(arr, indexer, axis, fill_value, allow_fill)\u001b[0m\n\u001b[1;32m    157\u001b[0m     out \u001b[39m=\u001b[39m np\u001b[39m.\u001b[39mempty(out_shape, dtype\u001b[39m=\u001b[39mdtype)\n\u001b[1;32m    159\u001b[0m func \u001b[39m=\u001b[39m _get_take_nd_function(\n\u001b[1;32m    160\u001b[0m     arr\u001b[39m.\u001b[39mndim, arr\u001b[39m.\u001b[39mdtype, out\u001b[39m.\u001b[39mdtype, axis\u001b[39m=\u001b[39maxis, mask_info\u001b[39m=\u001b[39mmask_info\n\u001b[1;32m    161\u001b[0m )\n\u001b[0;32m--> 162\u001b[0m func(arr, indexer, out, fill_value)\n\u001b[1;32m    164\u001b[0m \u001b[39mif\u001b[39;00m flip_order:\n\u001b[1;32m    165\u001b[0m     out \u001b[39m=\u001b[39m out\u001b[39m.\u001b[39mT\n",
      "\u001b[0;31mKeyboardInterrupt\u001b[0m: "
     ]
    }
   ],
   "source": [
    "max_balance = 0\n",
    "max_er = 0\n",
    "max_day = 0\n",
    "\n",
    "for er in emergency:\n",
    "    print(f'er {er}')\n",
    "    for day in Days_loop:\n",
    "        balance = China_cul_avg_n_days(data, s, c_c, i, ini_bal, day, er)\n",
    "        if balance > max_balance:\n",
    "            max_balance = balance\n",
    "            max_day = day\n",
    "            max_er = er\n",
    "print(f'Current er{max_er}, Day {max_day}, Total Balanced: {max_balance}')"
   ]
  },
  {
   "cell_type": "code",
   "execution_count": null,
   "metadata": {},
   "outputs": [
    {
     "data": {
      "text/plain": [
       "(1.5276923510596473e+47, 0.3)"
      ]
     },
     "execution_count": 98,
     "metadata": {},
     "output_type": "execute_result"
    }
   ],
   "source": [
    "max_balance_model_1 = max_balance\n",
    "max_day_model_1 = max_er\n",
    "\n",
    "max_balance_model_1, max_day_model_1"
   ]
  },
  {
   "cell_type": "code",
   "execution_count": 99,
   "metadata": {},
   "outputs": [],
   "source": [
    "def China_moving_avg_n_days(data, sales_price, sourcing_cost, interest_rate, initial_cash_balance, moving_avg_window, days, er_perc):\n",
    "    cash_balance = initial_cash_balance\n",
    "    inventory = 0\n",
    "    orders= []\n",
    "    \n",
    "    for period in data['period']:\n",
    "        current_demand = data.loc[data['period'] == period, 'demand'].values[0]\n",
    "        # demand_lst.append(current_demand)\n",
    "        \n",
    "        # Calculate cumulative average demand up to the current period\n",
    "        if period >= moving_avg_window:\n",
    "            moving_avg_demand = np.ceil(np.mean(data.loc[(data['period'] > period - moving_avg_window) & (data['period'] <= period), 'demand']))\n",
    "        else:\n",
    "            moving_avg_demand = np.ceil(np.mean(data.loc[data['period'] <= period, 'demand']))\n",
    "        \n",
    "        orders_to_receive = [order for order in orders if order[0] == period]\n",
    "        for order in orders_to_receive:\n",
    "            inventory += order[1]\n",
    "\n",
    "        avg_lead_demand =  np.ceil(np.mean(data.loc[data['period'] <= period, 'demand']))\n",
    "        \n",
    "        # Satisfy demand from inventory\n",
    "        if inventory >= current_demand:\n",
    "            sales = current_demand\n",
    "            inventory -= sales\n",
    "        else:\n",
    "            sales = inventory\n",
    "            inventory = 0\n",
    "        \n",
    "        # Calculate revenue\n",
    "        revenue = sales * sales_price\n",
    "        cash_balance += revenue\n",
    "\n",
    "        # Determine order quantity based\n",
    "        if avg_lead_demand*days >= inventory:\n",
    "            if inventory < er_perc * avg_lead_demand*days:\n",
    "                sourcing_cost = 8\n",
    "                order_quantity = int(moving_avg_demand - inventory)\n",
    "                orders.append((period+1, order_quantity))\n",
    "            else:\n",
    "                sourcing_cost = 7.25\n",
    "                order_quantity = int(moving_avg_demand*days - inventory)\n",
    "                orders.append((period+4, order_quantity))\n",
    "        else:\n",
    "            order_quantity = 0\n",
    "        \n",
    "        order_cost = order_quantity * sourcing_cost\n",
    "        cash_balance -= order_cost\n",
    "\n",
    "        # Apply interest\n",
    "        cash_balance = cash_balance * (1 + interest_rate)\n",
    "\n",
    "        # Update inventory with new order\n",
    "        inventory += order_quantity\n",
    "    \n",
    "    return cash_balance\n",
    "\n"
   ]
  },
  {
   "cell_type": "code",
   "execution_count": 100,
   "metadata": {},
   "outputs": [
    {
     "name": "stdout",
     "output_type": "stream",
     "text": [
      "Current er0.3, Days 2, Total Balanced: 1.3196142962122923e+47\n"
     ]
    }
   ],
   "source": [
    "max_balance = 0\n",
    "max_er = 0\n",
    "max_day = 0\n",
    "\n",
    "for day in Days_loop:\n",
    "    print(f'day {day}')\n",
    "    for er in emergency:\n",
    "        balance = China_moving_avg_n_days(data, s, c_c, i, ini_bal, 10, day, er)\n",
    "        if balance > max_balance:\n",
    "            max_balance = balance\n",
    "            max_er = er\n",
    "            max_day = day\n",
    "print(f'Current er{max_er}, Days {max_day}, Total Balanced: {max_balance}')"
   ]
  },
  {
   "cell_type": "code",
   "execution_count": 101,
   "metadata": {},
   "outputs": [
    {
     "data": {
      "text/plain": [
       "(1.3196142962122923e+47, 0.3)"
      ]
     },
     "execution_count": 101,
     "metadata": {},
     "output_type": "execute_result"
    }
   ],
   "source": [
    "max_balance_model_2 = max_balance\n",
    "max_day_model_2 = max_er\n",
    "\n",
    "max_balance_model_2, max_day_model_2"
   ]
  },
  {
   "cell_type": "markdown",
   "metadata": {},
   "source": [
    "### Exponential Smoothing"
   ]
  },
  {
   "cell_type": "code",
   "execution_count": 102,
   "metadata": {},
   "outputs": [],
   "source": [
    "def China_exp_n_days(data, sales_price, sourcing_cost, interest_rate, initial_cash_balance, alpha, days, er_perc):\n",
    "    cash_balance = initial_cash_balance\n",
    "    inventory = 0\n",
    "    orders = []\n",
    "    \n",
    "    for period in data['period']:\n",
    "        current_demand = data.loc[data['period'] == period, 'demand'].values[0]\n",
    "        \n",
    "        # Calculate cumulative average demand up to the current period\n",
    "        if period == 1:\n",
    "            forecast = current_demand  # Use the first period's demand as the initial forecast\n",
    "        else:\n",
    "            forecast = alpha * current_demand + (1 - alpha) * forecast\n",
    "        avg_lead_demand =  np.ceil(np.mean(data.loc[data['period'] <= period, 'demand']))\n",
    "\n",
    "        orders_to_receive = [order for order in orders if order[0] == period]\n",
    "        for order in orders_to_receive:\n",
    "            inventory += order[1]\n",
    "        \n",
    "        # Satisfy demand from inventory\n",
    "        if inventory >= current_demand:\n",
    "            sales = current_demand\n",
    "            inventory -= sales\n",
    "        else:\n",
    "            sales = inventory\n",
    "            inventory = 0\n",
    "        \n",
    "        # Calculate revenue\n",
    "        revenue = sales * sales_price\n",
    "        cash_balance += revenue\n",
    "\n",
    "        # Determine order quantity based\n",
    "        if avg_lead_demand*days >= inventory:\n",
    "            if inventory < er_perc * avg_lead_demand*days:\n",
    "                sourcing_cost = 8\n",
    "                order_quantity = int(forecast - inventory)\n",
    "                orders.append((period+1, order_quantity))\n",
    "            else:\n",
    "                sourcing_cost = 7.25\n",
    "                order_quantity = int(forecast*days - inventory)\n",
    "                orders.append((period+4, order_quantity))\n",
    "        else:\n",
    "            order_quantity = 0\n",
    "        \n",
    "        order_cost = order_quantity * sourcing_cost\n",
    "        cash_balance -= order_cost\n",
    "\n",
    "        # Apply interest\n",
    "        cash_balance = cash_balance * (1 + interest_rate)\n",
    "\n",
    "        # Update inventory with new order\n",
    "        inventory += order_quantity\n",
    "    \n",
    "    return cash_balance\n",
    "\n"
   ]
  },
  {
   "cell_type": "code",
   "execution_count": 103,
   "metadata": {},
   "outputs": [],
   "source": [
    "# alphas = np.arange(0.01, 1, 0.01)"
   ]
  },
  {
   "cell_type": "code",
   "execution_count": 104,
   "metadata": {},
   "outputs": [
    {
     "name": "stdout",
     "output_type": "stream",
     "text": [
      "Max er 0.3, Max day 2, Total Balanced: 1.2889829443750143e+47\n"
     ]
    }
   ],
   "source": [
    "max_balance = 0\n",
    "max_er = 0\n",
    "max_day = 0\n",
    "\n",
    "for day in Days_loop:\n",
    "    print(f'day {day}')\n",
    "    for er in emergency:\n",
    "        balance = China_exp_n_days(data, s, c_c, i, ini_bal, 0.1, day, er)\n",
    "        if balance > max_balance:\n",
    "            max_balance = balance\n",
    "            max_er = er\n",
    "            max_day = day\n",
    "\n",
    "print(f'Max er {max_er}, Max day {max_day}, Total Balanced: {max_balance}')"
   ]
  },
  {
   "cell_type": "code",
   "execution_count": 105,
   "metadata": {},
   "outputs": [
    {
     "data": {
      "text/plain": [
       "(1.2889829443750143e+47, 0.3)"
      ]
     },
     "execution_count": 105,
     "metadata": {},
     "output_type": "execute_result"
    }
   ],
   "source": [
    "max_balance_model_3 = max_balance\n",
    "max_er_model_3 = max_er\n",
    "\n",
    "max_balance_model_3, max_er_model_3"
   ]
  },
  {
   "cell_type": "markdown",
   "metadata": {},
   "source": [
    "### Results"
   ]
  },
  {
   "cell_type": "code",
   "execution_count": 106,
   "metadata": {},
   "outputs": [
    {
     "name": "stdout",
     "output_type": "stream",
     "text": [
      "Cumulative Average Forecast: $1.53e+47\n",
      "10-Day Moving Average Forecast: $1.32e+47\n",
      "Exponential Smoothing Forecast: $1.29e+47\n"
     ]
    }
   ],
   "source": [
    "print(\"Cumulative Average Forecast: ${:,.2e}\".format(max_balance_model_1))\n",
    "print(\"10-Day Moving Average Forecast: ${:,.2e}\".format(max_balance_model_2))\n",
    "print(f\"Exponential Smoothing Forecast: ${max_balance_model_3:,.2e}\")"
   ]
  },
  {
   "cell_type": "code",
   "execution_count": null,
   "metadata": {},
   "outputs": [],
   "source": []
  }
 ],
 "metadata": {
  "kernelspec": {
   "display_name": "Python 3",
   "language": "python",
   "name": "python3"
  },
  "language_info": {
   "codemirror_mode": {
    "name": "ipython",
    "version": 3
   },
   "file_extension": ".py",
   "mimetype": "text/x-python",
   "name": "python",
   "nbconvert_exporter": "python",
   "pygments_lexer": "ipython3",
   "version": "3.11.7"
  }
 },
 "nbformat": 4,
 "nbformat_minor": 2
}
