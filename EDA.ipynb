{
 "cells": [
  {
   "cell_type": "markdown",
   "metadata": {},
   "source": [
    "# Final Project: Decide on global dual sourcing strategy\n",
    "\n",
    "team: \\\n",
    "David Yang \\\n",
    "Jack Chen \\\n",
    "Joyce Wu"
   ]
  },
  {
   "cell_type": "code",
   "execution_count": 1,
   "metadata": {},
   "outputs": [],
   "source": [
    "import numpy as np\n",
    "import pandas as pd"
   ]
  },
  {
   "cell_type": "code",
   "execution_count": 2,
   "metadata": {},
   "outputs": [],
   "source": [
    "data = pd.read_csv('final project 2024.csv')"
   ]
  },
  {
   "cell_type": "markdown",
   "metadata": {},
   "source": [
    "## Single Sourcing: Mexico"
   ]
  },
  {
   "cell_type": "markdown",
   "metadata": {},
   "source": [
    "### Cumulative Average"
   ]
  },
  {
   "cell_type": "code",
   "execution_count": 17,
   "metadata": {},
   "outputs": [],
   "source": [
    "def Mexico_cul_avg(data, sales_price, sourcing_cost, interest_rate, initial_cash_balance):\n",
    "    cash_balance = initial_cash_balance\n",
    "    inventory = 0\n",
    "\n",
    "    for period in data['period']:\n",
    "\n",
    "        # forecast # order \n",
    "        forecast = np.ceil(np.mean(data[data['period'] <= period]['demand']))  \n",
    "\n",
    "        # revenue\n",
    "        demand = data.loc[period-1, 'demand']\n",
    "        rev = sales_price * np.minimum(inventory, demand)\n",
    "        \n",
    "        if inventory > demand:\n",
    "            inventory -= demand\n",
    "        else:\n",
    "            inventory = 0\n",
    "\n",
    "        cash_balance += rev\n",
    "        \n",
    "        # preparation of next period # in stock \n",
    "        if inventory >= forecast:\n",
    "            pass\n",
    "        else:\n",
    "            order = (forecast - inventory)\n",
    "            inventory += order  # purchase inventories\n",
    "            cash_balance -= order * sourcing_cost  # cost of inventories\n",
    "\n",
    "        # interest\n",
    "        cash_balance *= (1 + interest_rate)\n",
    "    return cash_balance"
   ]
  },
  {
   "cell_type": "code",
   "execution_count": 4,
   "metadata": {},
   "outputs": [],
   "source": [
    "def Mexico_lagged_1(data, sales_price, sourcing_cost, interest_rate, initial_cash_balance):\n",
    "    cash_balance = initial_cash_balance\n",
    "    inventory = 0\n",
    "\n",
    "    for period in data['period']:\n",
    "\n",
    "        # forecast # order \n",
    "        forecast = data.loc[period-1, 'demand']\n",
    "\n",
    "        # revenue\n",
    "        demand = data.loc[period-1, 'demand']\n",
    "        rev = sales_price * np.minimum(inventory, demand)\n",
    "        \n",
    "        if inventory > demand:\n",
    "            inventory -= demand\n",
    "        else:\n",
    "            inventory = 0\n",
    "\n",
    "        cash_balance += rev\n",
    "        \n",
    "        # preparation of next period # in stock \n",
    "        if inventory >= forecast:\n",
    "            pass\n",
    "        else:\n",
    "            inventory += forecast  # purchase inventories\n",
    "            cash_balance -= forecast * sourcing_cost  # cost of inventories\n",
    "\n",
    "        # interest\n",
    "        cash_balance *= (1 + interest_rate)\n",
    "    return cash_balance"
   ]
  },
  {
   "cell_type": "code",
   "execution_count": 5,
   "metadata": {},
   "outputs": [],
   "source": [
    "def Mexico_rolling(data, sales_price, sourcing_cost, interest_rate, initial_cash_balance, window):\n",
    "    cash_balance = initial_cash_balance\n",
    "    inventory = 0\n",
    "    window = window\n",
    "\n",
    "    for period in data['period']:\n",
    "\n",
    "        # forecast # order \n",
    "        if period >= 5:\n",
    "            forecast = data.loc[period-window: period]['demand'].mean()\n",
    "        else:\n",
    "            forecast = data.loc[:period]['demand'].mean()\n",
    "\n",
    "        # revenue\n",
    "        demand = data.loc[period-1, 'demand']\n",
    "        rev = sales_price * np.minimum(inventory, demand)\n",
    "        \n",
    "        if inventory > demand:\n",
    "            inventory -= demand\n",
    "        else:\n",
    "            inventory = 0\n",
    "\n",
    "        cash_balance += rev\n",
    "        \n",
    "        # preparation of next period # in stock \n",
    "        if inventory >= forecast:\n",
    "            pass\n",
    "        else:\n",
    "            inventory += forecast  # purchase inventories\n",
    "            cash_balance -= forecast * sourcing_cost  # cost of inventories\n",
    "\n",
    "        # interest\n",
    "        cash_balance *= (1 + interest_rate)\n",
    "    return cash_balance"
   ]
  },
  {
   "cell_type": "code",
   "execution_count": 6,
   "metadata": {},
   "outputs": [],
   "source": [
    "def Mexico_exponential(data, sales_price, sourcing_cost, interest_rate, initial_cash_balance, alpha):\n",
    "    cash_balance = initial_cash_balance\n",
    "    inventory = 0\n",
    "    last_forecast = 0\n",
    "\n",
    "    for period in data['period']:\n",
    "\n",
    "        # forecast # order \n",
    "        if period == 1:\n",
    "            forecast = data.loc[data['period']==period, 'demand'].values[0]\n",
    "        else:\n",
    "            forecast = data.loc[data['period']==period, 'demand'].values[0] * alpha + (1 - alpha) * last_forecast\n",
    "        \n",
    "        last_forecast = forecast\n",
    "\n",
    "        # revenue\n",
    "        demand = data.loc[period-1, 'demand']\n",
    "        rev = sales_price * np.minimum(inventory, demand)\n",
    "        \n",
    "        if inventory > demand:\n",
    "            inventory -= demand\n",
    "        else:\n",
    "            inventory = 0\n",
    "\n",
    "        cash_balance += rev\n",
    "        \n",
    "        # preparation of next period # in stock \n",
    "        if inventory >= forecast:\n",
    "            pass\n",
    "        else:\n",
    "            inventory += forecast  # purchase inventories\n",
    "            cash_balance -= forecast * sourcing_cost  # cost of inventories\n",
    "\n",
    "        # interest\n",
    "        cash_balance *= (1 + interest_rate)\n",
    "    return cash_balance"
   ]
  },
  {
   "cell_type": "code",
   "execution_count": 18,
   "metadata": {},
   "outputs": [
    {
     "data": {
      "text/plain": [
       "1.2365738620601625e+47"
      ]
     },
     "execution_count": 18,
     "metadata": {},
     "output_type": "execute_result"
    }
   ],
   "source": [
    "Mexico_cul_avg(data, 10, 8, 0.01, 0)"
   ]
  },
  {
   "cell_type": "code",
   "execution_count": 8,
   "metadata": {},
   "outputs": [
    {
     "data": {
      "text/plain": [
       "1.2933300174659392e+47"
      ]
     },
     "execution_count": 8,
     "metadata": {},
     "output_type": "execute_result"
    }
   ],
   "source": [
    "Mexico_lagged_1(data, 10, 8, 0.01, 0)"
   ]
  },
  {
   "cell_type": "code",
   "execution_count": 9,
   "metadata": {},
   "outputs": [
    {
     "data": {
      "text/plain": [
       "1.4340077521906562e+47"
      ]
     },
     "execution_count": 9,
     "metadata": {},
     "output_type": "execute_result"
    }
   ],
   "source": [
    "Mexico_rolling(data, 10, 8, 0.01, 0, 1)"
   ]
  },
  {
   "cell_type": "code",
   "execution_count": 10,
   "metadata": {},
   "outputs": [
    {
     "data": {
      "text/plain": [
       "1.3309104748619536e+47"
      ]
     },
     "execution_count": 10,
     "metadata": {},
     "output_type": "execute_result"
    }
   ],
   "source": [
    "Mexico_exponential(data, 10, 8, 0.01, 0, 0.41)"
   ]
  },
  {
   "cell_type": "code",
   "execution_count": 11,
   "metadata": {},
   "outputs": [
    {
     "name": "stdout",
     "output_type": "stream",
     "text": [
      "Current 0.41000000000000003, Total Balanced: 1.3309104748619536e+47\n"
     ]
    }
   ],
   "source": [
    "alphas = np.arange(0.01, 1, 0.01)\n",
    "max_balance = 0\n",
    "max_alpha = 0.0\n",
    "\n",
    "for alpha in alphas:\n",
    "    if Mexico_exponential(data, 10, 8, 0.01, 0, alpha) > max_balance:\n",
    "        max_balance = Mexico_exponential(data, 10, 8, 0.01, 0, alpha)\n",
    "        max_alpha = alpha\n",
    "print(f'Current {max_alpha}, Total Balanced: {max_balance}')"
   ]
  },
  {
   "cell_type": "code",
   "execution_count": 12,
   "metadata": {},
   "outputs": [
    {
     "name": "stdout",
     "output_type": "stream",
     "text": [
      "Current 1, Total Balanced: 1.4340077521906562e+47\n"
     ]
    }
   ],
   "source": [
    "window_range = np.arange(1, 11, 1)\n",
    "max_balance = 0\n",
    "max_window = np.NaN\n",
    "\n",
    "for window in window_range:\n",
    "    if Mexico_rolling(data, 10, 8, 0.01, 0, window) > max_balance:\n",
    "        max_balance = Mexico_rolling(data, 10, 8, 0.01, 0, window)\n",
    "        max_window = window\n",
    "print(f'Current {max_window}, Total Balanced: {max_balance}')"
   ]
  },
  {
   "cell_type": "code",
   "execution_count": null,
   "metadata": {},
   "outputs": [],
   "source": []
  },
  {
   "cell_type": "code",
   "execution_count": null,
   "metadata": {},
   "outputs": [],
   "source": []
  },
  {
   "cell_type": "code",
   "execution_count": null,
   "metadata": {},
   "outputs": [],
   "source": []
  },
  {
   "cell_type": "code",
   "execution_count": null,
   "metadata": {},
   "outputs": [],
   "source": []
  },
  {
   "cell_type": "code",
   "execution_count": null,
   "metadata": {},
   "outputs": [],
   "source": []
  },
  {
   "cell_type": "code",
   "execution_count": null,
   "metadata": {},
   "outputs": [],
   "source": []
  }
 ],
 "metadata": {
  "kernelspec": {
   "display_name": "Python 3",
   "language": "python",
   "name": "python3"
  },
  "language_info": {
   "codemirror_mode": {
    "name": "ipython",
    "version": 3
   },
   "file_extension": ".py",
   "mimetype": "text/x-python",
   "name": "python",
   "nbconvert_exporter": "python",
   "pygments_lexer": "ipython3",
   "version": "3.11.7"
  }
 },
 "nbformat": 4,
 "nbformat_minor": 2
}
